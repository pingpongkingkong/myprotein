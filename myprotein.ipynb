{
 "cells": [
  {
   "cell_type": "markdown",
   "metadata": {},
   "source": [
    "# MyProtein Impact Whey Protein - Flavor rating survey 2018\n",
    "\n",
    "Visualizations of [AsparagusSoupXB1](https://old.reddit.com/user/AsparagusSoupXB1)'s [taste-test survey results](https://old.reddit.com/r/fitmeals/comments/84gcxu/myprotein_impact_whey_protein_flavor_rating/?sort=confidence)"
   ]
  },
  {
   "cell_type": "code",
   "execution_count": null,
   "metadata": {},
   "outputs": [],
   "source": [
    "import pandas as pd\n",
    "\n",
    "df = pd.read_csv('myprotein.tsv',sep='\\t',index_col='Flavour')"
   ]
  },
  {
   "cell_type": "code",
   "execution_count": null,
   "metadata": {},
   "outputs": [],
   "source": [
    "def plot(df):\n",
    "    df.plot.barh(stacked=True, figsize=(14,25))"
   ]
  },
  {
   "cell_type": "markdown",
   "metadata": {},
   "source": [
    "# Flavours sorted by number of votes (of any type) cast for it "
   ]
  },
  {
   "cell_type": "code",
   "execution_count": null,
   "metadata": {},
   "outputs": [],
   "source": [
    "df.loc[ df.sum(axis=1).sort_values(ascending=True).index ].pipe( plot )"
   ]
  },
  {
   "cell_type": "markdown",
   "metadata": {},
   "source": [
    "# Flavours sorted by most \"Best\" votes"
   ]
  },
  {
   "cell_type": "code",
   "execution_count": null,
   "metadata": {},
   "outputs": [],
   "source": [
    "df.sort_values('Best',ascending=True).pipe(plot)"
   ]
  },
  {
   "cell_type": "markdown",
   "metadata": {},
   "source": [
    "# Flavours sorted by most \"Worst\" votes"
   ]
  },
  {
   "cell_type": "code",
   "execution_count": null,
   "metadata": {},
   "outputs": [],
   "source": [
    "df.sort_values(\"Worst\", ascending=True).pipe(plot)"
   ]
  },
  {
   "cell_type": "code",
   "execution_count": null,
   "metadata": {},
   "outputs": [],
   "source": [
    "_ = df.copy()\n",
    "\n",
    "# Replace score names, with values per score (1 = worst, ... 5 = best)\n",
    "_.columns = [1,2,3,4,5]\n",
    "\n",
    "# Get total vote counts per flavour\n",
    "totes = _.sum(axis=1)\n",
    "\n",
    "_ = _.stack().reset_index()\n",
    "\n",
    "# Multiply score vote counts, by score vaule\n",
    "_['score'] = _['level_1'] * _[0]\n",
    "\n",
    "# Sum scores by flavour, divide to get average\n",
    "dfAvg = _.groupby('Flavour')['score'].sum() / totes"
   ]
  },
  {
   "cell_type": "markdown",
   "metadata": {},
   "source": [
    "# Average score per flavour"
   ]
  },
  {
   "cell_type": "code",
   "execution_count": null,
   "metadata": {},
   "outputs": [],
   "source": [
    "dfAvg.sort_values().plot.barh(figsize=(10,20))"
   ]
  },
  {
   "cell_type": "markdown",
   "metadata": {},
   "source": [
    "# Flavours sorted by percentage of \"Best\" votes"
   ]
  },
  {
   "cell_type": "code",
   "execution_count": null,
   "metadata": {},
   "outputs": [],
   "source": [
    "dfP = df.div(df.sum(axis=1), axis=0).mul(100)\n",
    "dfP.sort_values(\"Best\",ascending=True).pipe(plot)"
   ]
  },
  {
   "cell_type": "markdown",
   "metadata": {},
   "source": [
    "# Flavours sorted by highest percent \"Worst\" votes"
   ]
  },
  {
   "cell_type": "code",
   "execution_count": null,
   "metadata": {},
   "outputs": [],
   "source": [
    "dfP = df.div(df.sum(axis=1), axis=0).mul(100)\n",
    "dfP.sort_values(\"Worst\",ascending=True).pipe(plot)"
   ]
  },
  {
   "cell_type": "code",
   "execution_count": null,
   "metadata": {},
   "outputs": [],
   "source": []
  }
 ],
 "metadata": {
  "kernelspec": {
   "display_name": "Python 3",
   "language": "python",
   "name": "python3"
  },
  "language_info": {
   "codemirror_mode": {
    "name": "ipython",
    "version": 3
   },
   "file_extension": ".py",
   "mimetype": "text/x-python",
   "name": "python",
   "nbconvert_exporter": "python",
   "pygments_lexer": "ipython3",
   "version": "3.6.5"
  }
 },
 "nbformat": 4,
 "nbformat_minor": 2
}
